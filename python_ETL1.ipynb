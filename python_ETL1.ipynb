{
 "cells": [
  {
   "cell_type": "code",
   "execution_count": null,
   "id": "240d70ac",
   "metadata": {},
   "outputs": [
    {
     "name": "stdout",
     "output_type": "stream",
     "text": [
      "\n",
      "📥 Processing `order_data_1.csv` into `order_data_1`...\n",
      "✅ Table `order_data_1` created.\n",
      "✅ Inserted 2000 rows into: order_data_1\n",
      "\n",
      "📥 Processing `transaction_data.csv` into `transaction_data`...\n",
      "✅ Table `transaction_data` created.\n"
     ]
    },
    {
     "name": "stderr",
     "output_type": "stream",
     "text": [
      "C:\\Users\\Avi\\AppData\\Local\\Temp\\ipykernel_9672\\729625898.py:38: FutureWarning: Setting an item of incompatible dtype is deprecated and will raise an error in a future version of pandas. Value '' has dtype incompatible with float64, please explicitly cast to a compatible dtype first.\n",
      "  df.fillna('', inplace=True)  # Replace NaN with empty string\n"
     ]
    },
    {
     "name": "stdout",
     "output_type": "stream",
     "text": [
      "✅ Inserted 1000 rows into: transaction_data\n",
      "\n",
      "📥 Processing `us_customer_data_1.csv` into `us_customer_data_1`...\n",
      "✅ Table `us_customer_data_1` created.\n",
      "✅ Inserted 1000 rows into: us_customer_data_1\n",
      "\n",
      "🎉 All files processed successfully.\n"
     ]
    }
   ],
   "source": [
    "import pandas as pd\n",
    "import pyodbc\n",
    "import os\n",
    "\n",
    "folder_path = r\"C:\\Users\\Avi\\OneDrive - Kasmo Digital Private Limited\\Desktop\\Python_ETL\"\n",
    "\n",
    "conn = pyodbc.connect(\n",
    "    'DRIVER={ODBC Driver 17 for SQL Server};'\n",
    "    'SERVER=DESKTOP-N8TVR49;'\n",
    "    'DATABASE=python_ETL;'\n",
    "    'UID=sa;'\n",
    "    'PWD=sql123'\n",
    ")\n",
    "cursor = conn.cursor()\n",
    "\n",
    "for file_name in os.listdir(folder_path):\n",
    "    if file_name.endswith(('.csv', '.xlsx')):\n",
    "        file_path = os.path.join(folder_path, file_name)\n",
    "        table_name = os.path.splitext(file_name)[0]\n",
    "\n",
    "        print(f\"\\n Processing `{file_name}` into `{table_name}`...\")\n",
    "\n",
    "        try:\n",
    "            if file_name.endswith('.csv'):\n",
    "                df = pd.read_csv(file_path, encoding='utf-8')\n",
    "            else:\n",
    "                df = pd.read_excel(file_path, engine='openpyxl')\n",
    "        except Exception as e:\n",
    "            print(f\"Failed to read {file_name}: {e}\")\n",
    "            continue\n",
    "\n",
    "        df.columns = [str(col).strip().replace(\" \", \"_\").replace(\"-\", \"_\") for col in df.columns]\n",
    "        df.fillna('', inplace=True)  \n",
    "\n",
    "        create_sql = f\"CREATE TABLE [{table_name}] (\"\n",
    "        create_sql += ', '.join(f\"[{col}] NVARCHAR(MAX)\" for col in df.columns) + \")\"\n",
    "\n",
    "        try:\n",
    "            cursor.execute(f\"IF OBJECT_ID('{table_name}', 'U') IS NOT NULL DROP TABLE [{table_name}]\")\n",
    "            cursor.execute(create_sql)\n",
    "            conn.commit()\n",
    "            print(f\"Table `{table_name}` created.\")\n",
    "        except Exception as e:\n",
    "            print(f\"Error creating table `{table_name}`: {e}\")\n",
    "            continue\n",
    "\n",
    "        insert_sql = f\"INSERT INTO [{table_name}] ({', '.join(f'[{col}]' for col in df.columns)}) VALUES ({', '.join('?' for _ in df.columns)})\"\n",
    "        inserted_count = 0\n",
    "        skipped_count = 0\n",
    "\n",
    "        for _, row in df.iterrows():\n",
    "            try:\n",
    "                cursor.execute(insert_sql, tuple(str(val) for val in row))\n",
    "                inserted_count += 1\n",
    "            except Exception as e:\n",
    "                print(f\"Failed to insert row: {e}\")\n",
    "                skipped_count += 1\n",
    "\n",
    "        conn.commit()\n",
    "        print(f\"Inserted {inserted_count} rows into: {table_name}\")\n",
    "        if skipped_count > 0:\n",
    "            print(f\"kipped {skipped_count} rows due to errors.\")\n",
    "\n",
    "cursor.close()\n",
    "conn.close()\n",
    "\n"
   ]
  },
  {
   "cell_type": "code",
   "execution_count": 7,
   "id": "c1119e89",
   "metadata": {},
   "outputs": [],
   "source": [
    "conn = pyodbc.connect(\n",
    "    'DRIVER={ODBC Driver 17 for SQL Server};'\n",
    "    'SERVER=DESKTOP-N8TVR49;'\n",
    "    'DATABASE=python_ETL;'\n",
    "    'UID=sa;'\n",
    "    'PWD=sql123'\n",
    ")"
   ]
  },
  {
   "cell_type": "code",
   "execution_count": 12,
   "id": "ea03429c",
   "metadata": {},
   "outputs": [
    {
     "name": "stdout",
     "output_type": "stream",
     "text": [
      "('892a07a4-d252-4775-85e0-73077143e1c6', '966', '2024-11-27', '317.64', 'Cancelled', 'Home & Garden')\n",
      "('ae160758-e187-47b2-9350-032f88f55491', '345', '2023-03-27', '645.87', 'Completed', 'Home & Garden')\n",
      "('7c50456e-6123-45cc-aa19-128bef3754d6', '503', '2024-03-31', '880.86', 'Pending', 'Clothing')\n",
      "('c788b56b-3716-4cd9-a827-d4dc401ba00c', '385', '2023-08-09', '876.83', 'Cancelled', 'Home & Garden')\n",
      "('925ab5b1-adb1-4302-a70b-1c2db724e02b', '817', '2023-04-19', '264.53', 'Pending', 'Home & Garden')\n"
     ]
    }
   ],
   "source": [
    "cursor = conn.cursor()\n",
    "cursor.execute(\"select top 5 * from order_data_1\")\n",
    "for row in cursor.fetchall():\n",
    "    print(row)\n"
   ]
  },
  {
   "cell_type": "code",
   "execution_count": 11,
   "id": "c4579906",
   "metadata": {},
   "outputs": [
    {
     "name": "stdout",
     "output_type": "stream",
     "text": [
      "('1', '565', '2992.47', '2025-03-10 01:20:54', 'Sports', 'Debit Card', 'New York')\n",
      "('2', '323', '2041.87', '2025-01-02 15:24:19', 'Clothing', 'Cash', 'New York')\n",
      "('3', '398', '107.35', '2025-02-16 03:49:01', 'Beauty', 'Debit Card', 'Online')\n",
      "('4', '19', '', '2025-04-30 15:26:23', 'Sports', 'Debit Card', 'Los Angeles')\n",
      "('5', '547', '3063.28', '2025-06-14 04:28:53', 'Clothing', 'PayPal', 'Los Angeles')\n"
     ]
    }
   ],
   "source": [
    "cursor.execute(\"select top 5 * from transaction_data\")\n",
    "for row in cursor.fetchall():\n",
    "    print(row)"
   ]
  },
  {
   "cell_type": "code",
   "execution_count": 13,
   "id": "d3e1653b",
   "metadata": {},
   "outputs": [
    {
     "name": "stdout",
     "output_type": "stream",
     "text": [
      "('1', 'Michelle Kidd', 'vayala@example.net', '619-723-4258', 'USNS Santiago, FPO AE 80872', '25-01-2025', 'Gold')\n",
      "('2', 'Brad Newton', 'taylorcatherine@example.net', '537-674-1158', '38783 Oliver Street, West Kristenborough, MT 99752', '13-07-2023', 'Silver')\n",
      "('3', 'Larry Torres', 'dsanchez@example.net', '810-256-4505', '6845 Steele Turnpike, West Erikabury, UT 37487', '18-08-2023', 'Bronze')\n",
      "('4', 'Kimberly Price', 'jessicaknight@example.com', '423-222-9779', '1631 Alexis Meadows, Lake Amanda, CA 75179', '08-12-2024', 'Gold')\n",
      "('5', 'Matthew Phillips', 'qwilliams@example.com', '220-763-3522', '2274 Williams Heights Suite 895, Andersonhaven, OR 80565', '03-02-2024', 'Gold')\n"
     ]
    }
   ],
   "source": [
    "cursor.execute(\"select top 5 * from us_customer_data_1\")\n",
    "for row in cursor.fetchall():\n",
    "    print(row)"
   ]
  },
  {
   "cell_type": "code",
   "execution_count": 15,
   "id": "ddae79c6",
   "metadata": {},
   "outputs": [
    {
     "name": "stdout",
     "output_type": "stream",
     "text": [
      "New row inserted into `order_data_1` successfully.\n"
     ]
    }
   ],
   "source": [
    "\n",
    "new_order = (\n",
    "    'test-0001-uuid-9876',  \n",
    "    '999',                   \n",
    "    '2025-06-19',            \n",
    "    699.99,                  \n",
    "    'Shipped',              \n",
    "    'Books'                  \n",
    ")\n",
    "\n",
    "insert_query = \"\"\"\n",
    "INSERT INTO order_data_1 (\n",
    "    order_id, customer_id, order_date, order_amount, order_status, product_category\n",
    ") VALUES (?, ?, ?, ?, ?, ?)\n",
    "\"\"\"\n",
    "\n",
    "\n",
    "cursor.execute(insert_query, new_order)\n",
    "conn.commit()\n",
    "\n",
    "print(\"New row inserted into `order_data_1` successfully.\")\n",
    "\n",
    "\n",
    "cursor.close()\n",
    "conn.close()\n"
   ]
  },
  {
   "cell_type": "code",
   "execution_count": 16,
   "id": "6db4c942",
   "metadata": {},
   "outputs": [],
   "source": [
    "import re"
   ]
  },
  {
   "cell_type": "code",
   "execution_count": 23,
   "id": "4c5ec573",
   "metadata": {},
   "outputs": [],
   "source": [
    "conn = pyodbc.connect(\n",
    "    'DRIVER={ODBC Driver 17 for SQL Server};'\n",
    "    'SERVER=DESKTOP-N8TVR49;'\n",
    "    'DATABASE=python_ETL;'\n",
    "    'UID=sa;'\n",
    "    'PWD=sql123'\n",
    ")"
   ]
  },
  {
   "cell_type": "code",
   "execution_count": 27,
   "id": "2e9ae775",
   "metadata": {},
   "outputs": [],
   "source": [
    "cursor = conn.cursor()"
   ]
  },
  {
   "cell_type": "code",
   "execution_count": 34,
   "id": "aadf9067",
   "metadata": {},
   "outputs": [],
   "source": [
    "prefux = r'^(Mr\\.|Mrs\\.|Miss|Ms\\.|Dr\\.)\\s*'\n",
    "suffix = r'\\s*(Jr\\.|Sr\\.|II|III|MD|DDS|PhD)$'"
   ]
  },
  {
   "cell_type": "code",
   "execution_count": 35,
   "id": "8561dc92",
   "metadata": {},
   "outputs": [],
   "source": [
    "cursor.execute(\"select customer_id, name from us_customer_data_1\")\n",
    "rows = cursor.fetchall()"
   ]
  },
  {
   "cell_type": "code",
   "execution_count": 36,
   "id": "5169904a",
   "metadata": {},
   "outputs": [],
   "source": [
    "for row in rows:\n",
    "    customer_id,name = row\n",
    "    newname = re.sub(prefux, '', name)\n",
    "    newname = re.sub(suffix, '', newname)\n",
    "    newname = newname.strip()\n",
    "    update_query = \"UPDATE us_customer_data_1 SET name = ? WHERE customer_id = ?\"\n",
    "    cursor.execute(update_query, (newname, customer_id))\n",
    "    conn.commit()"
   ]
  },
  {
   "cell_type": "code",
   "execution_count": 38,
   "id": "10ea729c",
   "metadata": {},
   "outputs": [
    {
     "data": {
      "text/plain": [
       "customer_id                                                  994\n",
       "name                                               Mario Odom MD\n",
       "email                                  sheilarobbins@example.org\n",
       "phone                                               773-566-3560\n",
       "address              87583 Tabitha Bypass, West Denise, LA 20244\n",
       "registration_date                                     24-03-2025\n",
       "loyalty_status                                            Silver\n",
       "Name: 993, dtype: object"
      ]
     },
     "execution_count": 38,
     "metadata": {},
     "output_type": "execute_result"
    }
   ],
   "source": [
    "df.loc[993]"
   ]
  },
  {
   "cell_type": "code",
   "execution_count": 39,
   "id": "13554c2a",
   "metadata": {},
   "outputs": [],
   "source": [
    "try:\n",
    "    cursor.execute(\"alter table us_customer_data_1 add first_name Nvarchar(200),last_name Nvarchar(200)\")\n",
    "    conn.commit()\n",
    "except:\n",
    "    pass"
   ]
  },
  {
   "cell_type": "code",
   "execution_count": 42,
   "id": "dddb9d36",
   "metadata": {},
   "outputs": [],
   "source": [
    "cursor.execute(\"select customer_id,name from us_customer_data_1\")\n",
    "rows = cursor.fetchall()"
   ]
  },
  {
   "cell_type": "code",
   "execution_count": 46,
   "id": "f6b456c9",
   "metadata": {},
   "outputs": [],
   "source": [
    "for customer_id,full_name in rows:\n",
    "    name_parts = full_name.strip().split()\n",
    "\n",
    "    if len(name_parts) >=2:\n",
    "        first_name = name_parts[0]\n",
    "        last_name = ' '.join(name_parts[1:])\n",
    "    elif len(name_parts) == 1:\n",
    "        first_name = name_parts[0]\n",
    "        last_name = ''\n",
    "    else:\n",
    "        first_name = ''\n",
    "        last_name = ''  \n",
    "\n",
    "    update_query = \"UPDATE us_customer_data_1 SET first_name = ?, last_name = ? WHERE customer_id = ?\"\n",
    "    cursor.execute(update_query,(first_name,last_name,customer_id))\n",
    "\n",
    "conn.commit()\n",
    "\n",
    "\n"
   ]
  },
  {
   "cell_type": "code",
   "execution_count": 47,
   "id": "77aaeb90",
   "metadata": {},
   "outputs": [],
   "source": [
    "cursor.close()\n",
    "conn.close()"
   ]
  },
  {
   "cell_type": "code",
   "execution_count": 45,
   "id": "1a35e1f1",
   "metadata": {},
   "outputs": [
    {
     "data": {
      "text/plain": [
       "customer_id                                                          2\n",
       "name                                                       Brad Newton\n",
       "email                                      taylorcatherine@example.net\n",
       "phone                                                     537-674-1158\n",
       "address              38783 Oliver Street, West Kristenborough, MT 9...\n",
       "registration_date                                           13-07-2023\n",
       "loyalty_status                                                  Silver\n",
       "Name: 1, dtype: object"
      ]
     },
     "execution_count": 45,
     "metadata": {},
     "output_type": "execute_result"
    }
   ],
   "source": [
    "df.loc[1]"
   ]
  },
  {
   "cell_type": "code",
   "execution_count": 48,
   "id": "7624d8a7",
   "metadata": {},
   "outputs": [],
   "source": [
    "conn = pyodbc.connect(\n",
    "    'DRIVER={ODBC Driver 17 for SQL Server};'\n",
    "    'SERVER=DESKTOP-N8TVR49;'\n",
    "    'DATABASE=python_ETL;'\n",
    "    'UID=sa;'\n",
    "    'PWD=sql123'\n",
    ")"
   ]
  },
  {
   "cell_type": "code",
   "execution_count": 49,
   "id": "169987e2",
   "metadata": {},
   "outputs": [],
   "source": [
    "cursor = conn.cursor()"
   ]
  },
  {
   "cell_type": "code",
   "execution_count": 55,
   "id": "2406e53d",
   "metadata": {},
   "outputs": [],
   "source": [
    "cursor.execute(\"\"\"CREATE VIEW test_view AS\n",
    "SELECT \n",
    "    c.customer_id AS customer_id_c,\n",
    "    c.name,\n",
    "    c.email,\n",
    "    c.phone,\n",
    "    c.address,\n",
    "    c.registration_date,\n",
    "    c.loyalty_status,\n",
    "    o.order_id,\n",
    "    o.order_date,\n",
    "    o.order_amount,\n",
    "    o.order_status,\n",
    "    o.product_category AS order_product_category,\n",
    "    t.transaction_id,\n",
    "    t.amount AS transaction_amount,\n",
    "    t.transaction_date,\n",
    "    t.product_category AS transaction_product_category,\n",
    "    t.payment_method,\n",
    "    t.store_location\n",
    "\n",
    "FROM \n",
    "    us_customer_data_1 AS c\n",
    "JOIN \n",
    "    order_data_1 AS o ON c.customer_id = o.customer_id\n",
    "JOIN \n",
    "    transaction_data AS t ON c.customer_id = t.customer_id;\n",
    "\"\"\")\n",
    "conn.commit()"
   ]
  },
  {
   "cell_type": "code",
   "execution_count": 67,
   "id": "fac93b37",
   "metadata": {},
   "outputs": [],
   "source": [
    "try:\n",
    "    cursor.execute(\"alter table us_customer_data_1 add loyalty_Score Nvarchar(200)\")\n",
    "    conn.commit()\n",
    "except:\n",
    "    pass"
   ]
  },
  {
   "cell_type": "code",
   "execution_count": 68,
   "id": "bd2628ae",
   "metadata": {},
   "outputs": [],
   "source": [
    "conn.commit()"
   ]
  },
  {
   "cell_type": "code",
   "execution_count": 69,
   "id": "191be8c8",
   "metadata": {},
   "outputs": [],
   "source": [
    "conn.close()"
   ]
  },
  {
   "cell_type": "code",
   "execution_count": 70,
   "id": "baa646f8",
   "metadata": {},
   "outputs": [],
   "source": [
    "conn = pyodbc.connect(\n",
    "    'DRIVER={ODBC Driver 17 for SQL Server};'\n",
    "    'SERVER=DESKTOP-N8TVR49;'\n",
    "    'DATABASE=python_ETL;'\n",
    "    'UID=sa;'\n",
    "    'PWD=sql123'\n",
    ")"
   ]
  },
  {
   "cell_type": "code",
   "execution_count": 71,
   "id": "abc1b712",
   "metadata": {},
   "outputs": [],
   "source": [
    "cursor = conn.cursor()"
   ]
  },
  {
   "cell_type": "code",
   "execution_count": 72,
   "id": "ed679d98",
   "metadata": {},
   "outputs": [],
   "source": [
    "cursor.execute(\"update us_customer_data_1 set loyalty_Score = Case when loyalty_status = 'Gold' then '0' when loyalty_status = 'Silver' then '1' else '2' end\")\n",
    "conn.commit()"
   ]
  },
  {
   "cell_type": "code",
   "execution_count": 73,
   "id": "0c2e8e75",
   "metadata": {},
   "outputs": [],
   "source": [
    "conn.close()"
   ]
  },
  {
   "cell_type": "code",
   "execution_count": 74,
   "id": "0486cd1a",
   "metadata": {},
   "outputs": [
    {
     "data": {
      "text/plain": [
       "customer_id          0\n",
       "name                 0\n",
       "email                0\n",
       "phone                0\n",
       "address              0\n",
       "registration_date    0\n",
       "loyalty_status       0\n",
       "dtype: int64"
      ]
     },
     "execution_count": 74,
     "metadata": {},
     "output_type": "execute_result"
    }
   ],
   "source": [
    "df.isnull().sum()"
   ]
  }
 ],
 "metadata": {
  "kernelspec": {
   "display_name": "env1",
   "language": "python",
   "name": "python3"
  },
  "language_info": {
   "codemirror_mode": {
    "name": "ipython",
    "version": 3
   },
   "file_extension": ".py",
   "mimetype": "text/x-python",
   "name": "python",
   "nbconvert_exporter": "python",
   "pygments_lexer": "ipython3",
   "version": "3.11.9"
  }
 },
 "nbformat": 4,
 "nbformat_minor": 5
}
